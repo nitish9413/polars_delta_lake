{
 "cells": [
  {
   "cell_type": "markdown",
   "id": "3c105cc2",
   "metadata": {},
   "source": [
    "# Delta Lake Tutorial with Polars\n",
    "\n",
    "This tutorial shows how to use Polars to work with Delta Lake tables.\n",
    "\n",
    "We’ll start by creating a sample DataFrame and saving it as a Delta table.\n",
    "\n",
    "The `target` variable is the folder where our Delta tables will be stored."
   ]
  },
  {
   "cell_type": "code",
   "execution_count": 1,
   "id": "0d9555b5",
   "metadata": {},
   "outputs": [],
   "source": [
    "tbl_path  = \"target/ex_append\""
   ]
  },
  {
   "cell_type": "code",
   "execution_count": 2,
   "id": "6d191bd5",
   "metadata": {},
   "outputs": [],
   "source": [
    "import polars as pl\n",
    "\n",
    "df1 = pl.DataFrame({\n",
    "    \"id\": [1, 2, 3, 4],\n",
    "    \"name\": [\"Alice\", \"Bob\", \"Charlie\", \"David\"],\n",
    "    \"age\": [25, 30, 35, 40],\n",
    "    \"city\": [\"Pune\", \"Mumbai\", \"Delhi\", \"Bangalore\"]\n",
    "})"
   ]
  },
  {
   "cell_type": "code",
   "execution_count": 3,
   "id": "6eba25f2",
   "metadata": {},
   "outputs": [
    {
     "data": {
      "text/html": [
       "<div><style>\n",
       ".dataframe > thead > tr,\n",
       ".dataframe > tbody > tr {\n",
       "  text-align: right;\n",
       "  white-space: pre-wrap;\n",
       "}\n",
       "</style>\n",
       "<small>shape: (4, 4)</small><table border=\"1\" class=\"dataframe\"><thead><tr><th>id</th><th>name</th><th>age</th><th>city</th></tr><tr><td>i64</td><td>str</td><td>i64</td><td>str</td></tr></thead><tbody><tr><td>1</td><td>&quot;Alice&quot;</td><td>25</td><td>&quot;Pune&quot;</td></tr><tr><td>2</td><td>&quot;Bob&quot;</td><td>30</td><td>&quot;Mumbai&quot;</td></tr><tr><td>3</td><td>&quot;Charlie&quot;</td><td>35</td><td>&quot;Delhi&quot;</td></tr><tr><td>4</td><td>&quot;David&quot;</td><td>40</td><td>&quot;Bangalore&quot;</td></tr></tbody></table></div>"
      ],
      "text/plain": [
       "shape: (4, 4)\n",
       "┌─────┬─────────┬─────┬───────────┐\n",
       "│ id  ┆ name    ┆ age ┆ city      │\n",
       "│ --- ┆ ---     ┆ --- ┆ ---       │\n",
       "│ i64 ┆ str     ┆ i64 ┆ str       │\n",
       "╞═════╪═════════╪═════╪═══════════╡\n",
       "│ 1   ┆ Alice   ┆ 25  ┆ Pune      │\n",
       "│ 2   ┆ Bob     ┆ 30  ┆ Mumbai    │\n",
       "│ 3   ┆ Charlie ┆ 35  ┆ Delhi     │\n",
       "│ 4   ┆ David   ┆ 40  ┆ Bangalore │\n",
       "└─────┴─────────┴─────┴───────────┘"
      ]
     },
     "execution_count": 3,
     "metadata": {},
     "output_type": "execute_result"
    }
   ],
   "source": [
    "df1"
   ]
  },
  {
   "cell_type": "markdown",
   "id": "8a06a891",
   "metadata": {},
   "source": [
    "# Viewing the DataFrame\n",
    "\n",
    "Here is our sample data."
   ]
  },
  {
   "cell_type": "code",
   "execution_count": 4,
   "id": "a9d1864f",
   "metadata": {},
   "outputs": [],
   "source": [
    "# let's export df as delta\n",
    "df1.write_delta(target=tbl_path) # pass the path of the table"
   ]
  },
  {
   "cell_type": "markdown",
   "id": "5dae89f6",
   "metadata": {},
   "source": [
    "# Saving the DataFrame as a Delta Table\n",
    "\n",
    "We’ll export our DataFrame to a Delta table using the `write_delta` method."
   ]
  },
  {
   "cell_type": "code",
   "execution_count": 5,
   "id": "bc487375",
   "metadata": {},
   "outputs": [],
   "source": [
    "df1_delta = pl.read_delta(source=tbl_path)"
   ]
  },
  {
   "cell_type": "code",
   "execution_count": 6,
   "id": "277883ef",
   "metadata": {},
   "outputs": [
    {
     "data": {
      "text/html": [
       "<div><style>\n",
       ".dataframe > thead > tr,\n",
       ".dataframe > tbody > tr {\n",
       "  text-align: right;\n",
       "  white-space: pre-wrap;\n",
       "}\n",
       "</style>\n",
       "<small>shape: (4, 4)</small><table border=\"1\" class=\"dataframe\"><thead><tr><th>id</th><th>name</th><th>age</th><th>city</th></tr><tr><td>i64</td><td>str</td><td>i64</td><td>str</td></tr></thead><tbody><tr><td>1</td><td>&quot;Alice&quot;</td><td>25</td><td>&quot;Pune&quot;</td></tr><tr><td>2</td><td>&quot;Bob&quot;</td><td>30</td><td>&quot;Mumbai&quot;</td></tr><tr><td>3</td><td>&quot;Charlie&quot;</td><td>35</td><td>&quot;Delhi&quot;</td></tr><tr><td>4</td><td>&quot;David&quot;</td><td>40</td><td>&quot;Bangalore&quot;</td></tr></tbody></table></div>"
      ],
      "text/plain": [
       "shape: (4, 4)\n",
       "┌─────┬─────────┬─────┬───────────┐\n",
       "│ id  ┆ name    ┆ age ┆ city      │\n",
       "│ --- ┆ ---     ┆ --- ┆ ---       │\n",
       "│ i64 ┆ str     ┆ i64 ┆ str       │\n",
       "╞═════╪═════════╪═════╪═══════════╡\n",
       "│ 1   ┆ Alice   ┆ 25  ┆ Pune      │\n",
       "│ 2   ┆ Bob     ┆ 30  ┆ Mumbai    │\n",
       "│ 3   ┆ Charlie ┆ 35  ┆ Delhi     │\n",
       "│ 4   ┆ David   ┆ 40  ┆ Bangalore │\n",
       "└─────┴─────────┴─────┴───────────┘"
      ]
     },
     "execution_count": 6,
     "metadata": {},
     "output_type": "execute_result"
    }
   ],
   "source": [
    "df1_delta"
   ]
  },
  {
   "cell_type": "markdown",
   "id": "f8fa3c56",
   "metadata": {},
   "source": [
    "# Updating Data in Delta Tables\n",
    "\n",
    "Polars supports several write modes for Delta tables:\n",
    "\n",
    "- `append`\n",
    "- `overwrite`\n",
    "- `ignore`\n",
    "- `merge`\n",
    "\n",
    "Let’s start by trying the append mode."
   ]
  },
  {
   "cell_type": "code",
   "execution_count": 7,
   "id": "4e10c94e",
   "metadata": {},
   "outputs": [
    {
     "data": {
      "text/html": [
       "<div><style>\n",
       ".dataframe > thead > tr,\n",
       ".dataframe > tbody > tr {\n",
       "  text-align: right;\n",
       "  white-space: pre-wrap;\n",
       "}\n",
       "</style>\n",
       "<small>shape: (4, 4)</small><table border=\"1\" class=\"dataframe\"><thead><tr><th>id</th><th>name</th><th>age</th><th>city</th></tr><tr><td>i64</td><td>str</td><td>i64</td><td>str</td></tr></thead><tbody><tr><td>3</td><td>&quot;Charlie&quot;</td><td>36</td><td>&quot;Delhi&quot;</td></tr><tr><td>4</td><td>&quot;David&quot;</td><td>41</td><td>&quot;Hyderabad&quot;</td></tr><tr><td>5</td><td>&quot;Eve&quot;</td><td>29</td><td>&quot;Chennai&quot;</td></tr><tr><td>6</td><td>&quot;Frank&quot;</td><td>33</td><td>&quot;Kolkata&quot;</td></tr></tbody></table></div>"
      ],
      "text/plain": [
       "shape: (4, 4)\n",
       "┌─────┬─────────┬─────┬───────────┐\n",
       "│ id  ┆ name    ┆ age ┆ city      │\n",
       "│ --- ┆ ---     ┆ --- ┆ ---       │\n",
       "│ i64 ┆ str     ┆ i64 ┆ str       │\n",
       "╞═════╪═════════╪═════╪═══════════╡\n",
       "│ 3   ┆ Charlie ┆ 36  ┆ Delhi     │\n",
       "│ 4   ┆ David   ┆ 41  ┆ Hyderabad │\n",
       "│ 5   ┆ Eve     ┆ 29  ┆ Chennai   │\n",
       "│ 6   ┆ Frank   ┆ 33  ┆ Kolkata   │\n",
       "└─────┴─────────┴─────┴───────────┘"
      ]
     },
     "execution_count": 7,
     "metadata": {},
     "output_type": "execute_result"
    }
   ],
   "source": [
    "df2 = pl.DataFrame({\n",
    "    \"id\": [3, 4, 5, 6],\n",
    "    \"name\": [\"Charlie\", \"David\", \"Eve\", \"Frank\"],\n",
    "    \"age\": [36, 41, 29, 33],\n",
    "    \"city\": [\"Delhi\", \"Hyderabad\", \"Chennai\", \"Kolkata\"]\n",
    "})\n",
    "df2"
   ]
  },
  {
   "cell_type": "markdown",
   "id": "30419ec7",
   "metadata": {},
   "source": [
    "<div><style>\n",
    ".dataframe > thead > tr,\n",
    ".dataframe > tbody > tr {\n",
    "  text-align: right;\n",
    "  white-space: pre-wrap;\n",
    "}\n",
    "</style>\n",
    "<small>shape: (4, 4)</small><table border=\"1\" class=\"dataframe\"><thead><tr><th>id</th><th>name</th><th>age</th><th>city</th></tr><tr><td>i64</td><td>str</td><td>i64</td><td>str</td></tr></thead><tbody><tr><td>3</td><td>&quot;Charlie&quot;</td><td>36</td><td>&quot;Delhi&quot;</td></tr><tr><td>4</td><td>&quot;David&quot;</td><td>41</td><td>&quot;Hyderabad&quot;</td></tr><tr><td>5</td><td>&quot;Eve&quot;</td><td>29</td><td>&quot;Chennai&quot;</td></tr><tr><td>6</td><td>&quot;Frank&quot;</td><td>33</td><td>&quot;Kolkata&quot;</td></tr></tbody></table></div>"
   ]
  },
  {
   "cell_type": "markdown",
   "id": "f2fc0283",
   "metadata": {},
   "source": [
    "# Writing with Append Mode\n",
    "\n",
    "We’ll add new data to the Delta table using append mode."
   ]
  },
  {
   "cell_type": "code",
   "execution_count": 8,
   "id": "382e52f0",
   "metadata": {},
   "outputs": [],
   "source": [
    "df2.write_delta(\n",
    "    target=tbl_path,\n",
    "    mode=\"append\"\n",
    ")"
   ]
  },
  {
   "cell_type": "code",
   "execution_count": 9,
   "id": "703130fc",
   "metadata": {},
   "outputs": [
    {
     "data": {
      "text/html": [
       "<div><style>\n",
       ".dataframe > thead > tr,\n",
       ".dataframe > tbody > tr {\n",
       "  text-align: right;\n",
       "  white-space: pre-wrap;\n",
       "}\n",
       "</style>\n",
       "<small>shape: (8, 4)</small><table border=\"1\" class=\"dataframe\"><thead><tr><th>id</th><th>name</th><th>age</th><th>city</th></tr><tr><td>i64</td><td>str</td><td>i64</td><td>str</td></tr></thead><tbody><tr><td>3</td><td>&quot;Charlie&quot;</td><td>36</td><td>&quot;Delhi&quot;</td></tr><tr><td>4</td><td>&quot;David&quot;</td><td>41</td><td>&quot;Hyderabad&quot;</td></tr><tr><td>5</td><td>&quot;Eve&quot;</td><td>29</td><td>&quot;Chennai&quot;</td></tr><tr><td>6</td><td>&quot;Frank&quot;</td><td>33</td><td>&quot;Kolkata&quot;</td></tr><tr><td>1</td><td>&quot;Alice&quot;</td><td>25</td><td>&quot;Pune&quot;</td></tr><tr><td>2</td><td>&quot;Bob&quot;</td><td>30</td><td>&quot;Mumbai&quot;</td></tr><tr><td>3</td><td>&quot;Charlie&quot;</td><td>35</td><td>&quot;Delhi&quot;</td></tr><tr><td>4</td><td>&quot;David&quot;</td><td>40</td><td>&quot;Bangalore&quot;</td></tr></tbody></table></div>"
      ],
      "text/plain": [
       "shape: (8, 4)\n",
       "┌─────┬─────────┬─────┬───────────┐\n",
       "│ id  ┆ name    ┆ age ┆ city      │\n",
       "│ --- ┆ ---     ┆ --- ┆ ---       │\n",
       "│ i64 ┆ str     ┆ i64 ┆ str       │\n",
       "╞═════╪═════════╪═════╪═══════════╡\n",
       "│ 3   ┆ Charlie ┆ 36  ┆ Delhi     │\n",
       "│ 4   ┆ David   ┆ 41  ┆ Hyderabad │\n",
       "│ 5   ┆ Eve     ┆ 29  ┆ Chennai   │\n",
       "│ 6   ┆ Frank   ┆ 33  ┆ Kolkata   │\n",
       "│ 1   ┆ Alice   ┆ 25  ┆ Pune      │\n",
       "│ 2   ┆ Bob     ┆ 30  ┆ Mumbai    │\n",
       "│ 3   ┆ Charlie ┆ 35  ┆ Delhi     │\n",
       "│ 4   ┆ David   ┆ 40  ┆ Bangalore │\n",
       "└─────┴─────────┴─────┴───────────┘"
      ]
     },
     "execution_count": 9,
     "metadata": {},
     "output_type": "execute_result"
    }
   ],
   "source": [
    "df2_delta = pl.read_delta(tbl_path)\n",
    "df2_delta"
   ]
  },
  {
   "cell_type": "markdown",
   "id": "bcd9c810",
   "metadata": {},
   "source": [
    "### Notice: Duplicate Rows\n",
    "\n",
    "When you use append mode, new rows are added directly—even if they are duplicates. The table now contains repeated values."
   ]
  },
  {
   "cell_type": "markdown",
   "id": "ccfcea42",
   "metadata": {},
   "source": [
    "# Overwrite Mode\n",
    "\n",
    "Next, let’s see what happens when we use overwrite mode."
   ]
  },
  {
   "cell_type": "code",
   "execution_count": 10,
   "id": "d3018ab9",
   "metadata": {},
   "outputs": [],
   "source": [
    "tbl_path = \"target/ex_overwrite\""
   ]
  },
  {
   "cell_type": "code",
   "execution_count": 11,
   "id": "3ba3ef1a",
   "metadata": {},
   "outputs": [],
   "source": [
    "df1.write_delta(tbl_path)"
   ]
  },
  {
   "cell_type": "code",
   "execution_count": 12,
   "id": "abe39623",
   "metadata": {},
   "outputs": [
    {
     "data": {
      "text/html": [
       "<div><style>\n",
       ".dataframe > thead > tr,\n",
       ".dataframe > tbody > tr {\n",
       "  text-align: right;\n",
       "  white-space: pre-wrap;\n",
       "}\n",
       "</style>\n",
       "<small>shape: (4, 4)</small><table border=\"1\" class=\"dataframe\"><thead><tr><th>id</th><th>name</th><th>age</th><th>city</th></tr><tr><td>i64</td><td>str</td><td>i64</td><td>str</td></tr></thead><tbody><tr><td>1</td><td>&quot;Alice&quot;</td><td>25</td><td>&quot;Pune&quot;</td></tr><tr><td>2</td><td>&quot;Bob&quot;</td><td>30</td><td>&quot;Mumbai&quot;</td></tr><tr><td>3</td><td>&quot;Charlie&quot;</td><td>35</td><td>&quot;Delhi&quot;</td></tr><tr><td>4</td><td>&quot;David&quot;</td><td>40</td><td>&quot;Bangalore&quot;</td></tr></tbody></table></div>"
      ],
      "text/plain": [
       "shape: (4, 4)\n",
       "┌─────┬─────────┬─────┬───────────┐\n",
       "│ id  ┆ name    ┆ age ┆ city      │\n",
       "│ --- ┆ ---     ┆ --- ┆ ---       │\n",
       "│ i64 ┆ str     ┆ i64 ┆ str       │\n",
       "╞═════╪═════════╪═════╪═══════════╡\n",
       "│ 1   ┆ Alice   ┆ 25  ┆ Pune      │\n",
       "│ 2   ┆ Bob     ┆ 30  ┆ Mumbai    │\n",
       "│ 3   ┆ Charlie ┆ 35  ┆ Delhi     │\n",
       "│ 4   ┆ David   ┆ 40  ┆ Bangalore │\n",
       "└─────┴─────────┴─────┴───────────┘"
      ]
     },
     "execution_count": 12,
     "metadata": {},
     "output_type": "execute_result"
    }
   ],
   "source": [
    "df1_delta_ow = pl.read_delta(tbl_path)\n",
    "df1_delta_ow"
   ]
  },
  {
   "cell_type": "code",
   "execution_count": 13,
   "id": "5e2b426b",
   "metadata": {},
   "outputs": [],
   "source": [
    "# let's update table with mode - overwrite\n",
    "df2.write_delta(\n",
    "    tbl_path,\n",
    "    mode=\"overwrite\"\n",
    ")"
   ]
  },
  {
   "cell_type": "code",
   "execution_count": 14,
   "id": "e26c8047",
   "metadata": {},
   "outputs": [
    {
     "data": {
      "text/html": [
       "<div><style>\n",
       ".dataframe > thead > tr,\n",
       ".dataframe > tbody > tr {\n",
       "  text-align: right;\n",
       "  white-space: pre-wrap;\n",
       "}\n",
       "</style>\n",
       "<small>shape: (4, 4)</small><table border=\"1\" class=\"dataframe\"><thead><tr><th>id</th><th>name</th><th>age</th><th>city</th></tr><tr><td>i64</td><td>str</td><td>i64</td><td>str</td></tr></thead><tbody><tr><td>3</td><td>&quot;Charlie&quot;</td><td>36</td><td>&quot;Delhi&quot;</td></tr><tr><td>4</td><td>&quot;David&quot;</td><td>41</td><td>&quot;Hyderabad&quot;</td></tr><tr><td>5</td><td>&quot;Eve&quot;</td><td>29</td><td>&quot;Chennai&quot;</td></tr><tr><td>6</td><td>&quot;Frank&quot;</td><td>33</td><td>&quot;Kolkata&quot;</td></tr></tbody></table></div>"
      ],
      "text/plain": [
       "shape: (4, 4)\n",
       "┌─────┬─────────┬─────┬───────────┐\n",
       "│ id  ┆ name    ┆ age ┆ city      │\n",
       "│ --- ┆ ---     ┆ --- ┆ ---       │\n",
       "│ i64 ┆ str     ┆ i64 ┆ str       │\n",
       "╞═════╪═════════╪═════╪═══════════╡\n",
       "│ 3   ┆ Charlie ┆ 36  ┆ Delhi     │\n",
       "│ 4   ┆ David   ┆ 41  ┆ Hyderabad │\n",
       "│ 5   ┆ Eve     ┆ 29  ┆ Chennai   │\n",
       "│ 6   ┆ Frank   ┆ 33  ┆ Kolkata   │\n",
       "└─────┴─────────┴─────┴───────────┘"
      ]
     },
     "execution_count": 14,
     "metadata": {},
     "output_type": "execute_result"
    }
   ],
   "source": [
    "df2_delta_ow = pl.read_delta(tbl_path)\n",
    "df2_delta_ow"
   ]
  },
  {
   "cell_type": "markdown",
   "id": "35c8f303",
   "metadata": {},
   "source": [
    "### Overwrite Mode Result\n",
    "\n",
    "Overwrite mode replaces all existing data in the table with the new data."
   ]
  },
  {
   "cell_type": "markdown",
   "id": "31f35de8",
   "metadata": {},
   "source": [
    "# Ignore Mode\n",
    "\n",
    "Now, let’s try ignore mode."
   ]
  },
  {
   "cell_type": "code",
   "execution_count": 15,
   "id": "a440afb0",
   "metadata": {},
   "outputs": [],
   "source": [
    "tbl_path = \"target/ex_ignore\"\n",
    "\n",
    "df1.write_delta(tbl_path)"
   ]
  },
  {
   "cell_type": "code",
   "execution_count": 16,
   "id": "a9bae841",
   "metadata": {},
   "outputs": [
    {
     "data": {
      "text/html": [
       "<div><style>\n",
       ".dataframe > thead > tr,\n",
       ".dataframe > tbody > tr {\n",
       "  text-align: right;\n",
       "  white-space: pre-wrap;\n",
       "}\n",
       "</style>\n",
       "<small>shape: (4, 4)</small><table border=\"1\" class=\"dataframe\"><thead><tr><th>id</th><th>name</th><th>age</th><th>city</th></tr><tr><td>i64</td><td>str</td><td>i64</td><td>str</td></tr></thead><tbody><tr><td>1</td><td>&quot;Alice&quot;</td><td>25</td><td>&quot;Pune&quot;</td></tr><tr><td>2</td><td>&quot;Bob&quot;</td><td>30</td><td>&quot;Mumbai&quot;</td></tr><tr><td>3</td><td>&quot;Charlie&quot;</td><td>35</td><td>&quot;Delhi&quot;</td></tr><tr><td>4</td><td>&quot;David&quot;</td><td>40</td><td>&quot;Bangalore&quot;</td></tr></tbody></table></div>"
      ],
      "text/plain": [
       "shape: (4, 4)\n",
       "┌─────┬─────────┬─────┬───────────┐\n",
       "│ id  ┆ name    ┆ age ┆ city      │\n",
       "│ --- ┆ ---     ┆ --- ┆ ---       │\n",
       "│ i64 ┆ str     ┆ i64 ┆ str       │\n",
       "╞═════╪═════════╪═════╪═══════════╡\n",
       "│ 1   ┆ Alice   ┆ 25  ┆ Pune      │\n",
       "│ 2   ┆ Bob     ┆ 30  ┆ Mumbai    │\n",
       "│ 3   ┆ Charlie ┆ 35  ┆ Delhi     │\n",
       "│ 4   ┆ David   ┆ 40  ┆ Bangalore │\n",
       "└─────┴─────────┴─────┴───────────┘"
      ]
     },
     "execution_count": 16,
     "metadata": {},
     "output_type": "execute_result"
    }
   ],
   "source": [
    "df1_delta_ig = pl.read_delta(tbl_path)\n",
    "df1_delta_ig"
   ]
  },
  {
   "cell_type": "code",
   "execution_count": 17,
   "id": "692c7b4d",
   "metadata": {},
   "outputs": [],
   "source": [
    "# let's update table with incoming values using mode - ignore\n",
    "df2.write_delta(tbl_path,mode=\"ignore\")"
   ]
  },
  {
   "cell_type": "code",
   "execution_count": 18,
   "id": "f4562441",
   "metadata": {},
   "outputs": [
    {
     "data": {
      "text/html": [
       "<div><style>\n",
       ".dataframe > thead > tr,\n",
       ".dataframe > tbody > tr {\n",
       "  text-align: right;\n",
       "  white-space: pre-wrap;\n",
       "}\n",
       "</style>\n",
       "<small>shape: (4, 4)</small><table border=\"1\" class=\"dataframe\"><thead><tr><th>id</th><th>name</th><th>age</th><th>city</th></tr><tr><td>i64</td><td>str</td><td>i64</td><td>str</td></tr></thead><tbody><tr><td>1</td><td>&quot;Alice&quot;</td><td>25</td><td>&quot;Pune&quot;</td></tr><tr><td>2</td><td>&quot;Bob&quot;</td><td>30</td><td>&quot;Mumbai&quot;</td></tr><tr><td>3</td><td>&quot;Charlie&quot;</td><td>35</td><td>&quot;Delhi&quot;</td></tr><tr><td>4</td><td>&quot;David&quot;</td><td>40</td><td>&quot;Bangalore&quot;</td></tr></tbody></table></div>"
      ],
      "text/plain": [
       "shape: (4, 4)\n",
       "┌─────┬─────────┬─────┬───────────┐\n",
       "│ id  ┆ name    ┆ age ┆ city      │\n",
       "│ --- ┆ ---     ┆ --- ┆ ---       │\n",
       "│ i64 ┆ str     ┆ i64 ┆ str       │\n",
       "╞═════╪═════════╪═════╪═══════════╡\n",
       "│ 1   ┆ Alice   ┆ 25  ┆ Pune      │\n",
       "│ 2   ┆ Bob     ┆ 30  ┆ Mumbai    │\n",
       "│ 3   ┆ Charlie ┆ 35  ┆ Delhi     │\n",
       "│ 4   ┆ David   ┆ 40  ┆ Bangalore │\n",
       "└─────┴─────────┴─────┴───────────┘"
      ]
     },
     "execution_count": 18,
     "metadata": {},
     "output_type": "execute_result"
    }
   ],
   "source": [
    "df2_delta_ig = pl.read_delta(tbl_path)\n",
    "df2_delta_ig"
   ]
  },
  {
   "cell_type": "markdown",
   "id": "69302767",
   "metadata": {},
   "source": [
    "### Ignore Mode Result\n",
    "\n",
    "If the table already exists, ignore mode does not write any new data."
   ]
  },
  {
   "cell_type": "markdown",
   "id": "7be24585",
   "metadata": {},
   "source": [
    "# Merge Mode\n",
    "\n",
    "Finally, let’s look at merge mode."
   ]
  },
  {
   "cell_type": "code",
   "execution_count": 19,
   "id": "62b4b8b3",
   "metadata": {},
   "outputs": [],
   "source": [
    "tbl_path = \"target/ex_merge\"\n",
    "df1.write_delta(tbl_path)"
   ]
  },
  {
   "cell_type": "code",
   "execution_count": 20,
   "id": "e0534e5f",
   "metadata": {},
   "outputs": [
    {
     "data": {
      "text/html": [
       "<div><style>\n",
       ".dataframe > thead > tr,\n",
       ".dataframe > tbody > tr {\n",
       "  text-align: right;\n",
       "  white-space: pre-wrap;\n",
       "}\n",
       "</style>\n",
       "<small>shape: (4, 4)</small><table border=\"1\" class=\"dataframe\"><thead><tr><th>id</th><th>name</th><th>age</th><th>city</th></tr><tr><td>i64</td><td>str</td><td>i64</td><td>str</td></tr></thead><tbody><tr><td>1</td><td>&quot;Alice&quot;</td><td>25</td><td>&quot;Pune&quot;</td></tr><tr><td>2</td><td>&quot;Bob&quot;</td><td>30</td><td>&quot;Mumbai&quot;</td></tr><tr><td>3</td><td>&quot;Charlie&quot;</td><td>35</td><td>&quot;Delhi&quot;</td></tr><tr><td>4</td><td>&quot;David&quot;</td><td>40</td><td>&quot;Bangalore&quot;</td></tr></tbody></table></div>"
      ],
      "text/plain": [
       "shape: (4, 4)\n",
       "┌─────┬─────────┬─────┬───────────┐\n",
       "│ id  ┆ name    ┆ age ┆ city      │\n",
       "│ --- ┆ ---     ┆ --- ┆ ---       │\n",
       "│ i64 ┆ str     ┆ i64 ┆ str       │\n",
       "╞═════╪═════════╪═════╪═══════════╡\n",
       "│ 1   ┆ Alice   ┆ 25  ┆ Pune      │\n",
       "│ 2   ┆ Bob     ┆ 30  ┆ Mumbai    │\n",
       "│ 3   ┆ Charlie ┆ 35  ┆ Delhi     │\n",
       "│ 4   ┆ David   ┆ 40  ┆ Bangalore │\n",
       "└─────┴─────────┴─────┴───────────┘"
      ]
     },
     "execution_count": 20,
     "metadata": {},
     "output_type": "execute_result"
    }
   ],
   "source": [
    "df1_delta_mrg = pl.read_delta(tbl_path)\n",
    "df1_delta_mrg"
   ]
  },
  {
   "cell_type": "markdown",
   "id": "7640c58d",
   "metadata": {},
   "source": [
    "# How Merge Mode Works\n",
    "\n",
    "Delta Lake supports advanced updates. With merge mode, you can update rows that match a condition and insert new rows that don’t exist yet."
   ]
  },
  {
   "cell_type": "code",
   "execution_count": 21,
   "id": "d12c6bc5",
   "metadata": {},
   "outputs": [
    {
     "data": {
      "text/plain": [
       "{'num_source_rows': 4,\n",
       " 'num_target_rows_inserted': 2,\n",
       " 'num_target_rows_updated': 2,\n",
       " 'num_target_rows_deleted': 0,\n",
       " 'num_target_rows_copied': 2,\n",
       " 'num_output_rows': 6,\n",
       " 'num_target_files_scanned': 1,\n",
       " 'num_target_files_skipped_during_scan': 0,\n",
       " 'num_target_files_added': 2,\n",
       " 'num_target_files_removed': 1,\n",
       " 'execution_time_ms': 89,\n",
       " 'scan_time_ms': 356,\n",
       " 'rewrite_time_ms': 4}"
      ]
     },
     "execution_count": 21,
     "metadata": {},
     "output_type": "execute_result"
    }
   ],
   "source": [
    "(df2.write_delta(\n",
    "    tbl_path,\n",
    "    mode=\"merge\",\n",
    "    delta_merge_options={\n",
    "        \"predicate\": \"s.id = t.id\",\n",
    "        \"source_alias\": \"s\", # just giving name to source table\n",
    "        \"target_alias\": \"t\", # just giving name to target table\n",
    "    },\n",
    ")\n",
    ".when_matched_update_all()\n",
    ".when_not_matched_insert_all()\n",
    ".execute()\n",
    ")"
   ]
  },
  {
   "cell_type": "code",
   "execution_count": 22,
   "id": "d000c6d2",
   "metadata": {},
   "outputs": [],
   "source": [
    "df2_delta_mg = pl.read_delta(tbl_path)"
   ]
  },
  {
   "cell_type": "code",
   "execution_count": 23,
   "id": "a8ba79dc",
   "metadata": {},
   "outputs": [
    {
     "data": {
      "text/html": [
       "<div><style>\n",
       ".dataframe > thead > tr,\n",
       ".dataframe > tbody > tr {\n",
       "  text-align: right;\n",
       "  white-space: pre-wrap;\n",
       "}\n",
       "</style>\n",
       "<small>shape: (6, 4)</small><table border=\"1\" class=\"dataframe\"><thead><tr><th>id</th><th>name</th><th>age</th><th>city</th></tr><tr><td>i64</td><td>str</td><td>i64</td><td>str</td></tr></thead><tbody><tr><td>1</td><td>&quot;Alice&quot;</td><td>25</td><td>&quot;Pune&quot;</td></tr><tr><td>2</td><td>&quot;Bob&quot;</td><td>30</td><td>&quot;Mumbai&quot;</td></tr><tr><td>3</td><td>&quot;Charlie&quot;</td><td>36</td><td>&quot;Delhi&quot;</td></tr><tr><td>4</td><td>&quot;David&quot;</td><td>41</td><td>&quot;Hyderabad&quot;</td></tr><tr><td>5</td><td>&quot;Eve&quot;</td><td>29</td><td>&quot;Chennai&quot;</td></tr><tr><td>6</td><td>&quot;Frank&quot;</td><td>33</td><td>&quot;Kolkata&quot;</td></tr></tbody></table></div>"
      ],
      "text/plain": [
       "shape: (6, 4)\n",
       "┌─────┬─────────┬─────┬───────────┐\n",
       "│ id  ┆ name    ┆ age ┆ city      │\n",
       "│ --- ┆ ---     ┆ --- ┆ ---       │\n",
       "│ i64 ┆ str     ┆ i64 ┆ str       │\n",
       "╞═════╪═════════╪═════╪═══════════╡\n",
       "│ 1   ┆ Alice   ┆ 25  ┆ Pune      │\n",
       "│ 2   ┆ Bob     ┆ 30  ┆ Mumbai    │\n",
       "│ 3   ┆ Charlie ┆ 36  ┆ Delhi     │\n",
       "│ 4   ┆ David   ┆ 41  ┆ Hyderabad │\n",
       "│ 5   ┆ Eve     ┆ 29  ┆ Chennai   │\n",
       "│ 6   ┆ Frank   ┆ 33  ┆ Kolkata   │\n",
       "└─────┴─────────┴─────┴───────────┘"
      ]
     },
     "execution_count": 23,
     "metadata": {},
     "output_type": "execute_result"
    }
   ],
   "source": [
    "df2_delta_mg.sort(\"id\")"
   ]
  }
 ],
 "metadata": {
  "kernelspec": {
   "display_name": "polars-delta-lake",
   "language": "python",
   "name": "python3"
  },
  "language_info": {
   "codemirror_mode": {
    "name": "ipython",
    "version": 3
   },
   "file_extension": ".py",
   "mimetype": "text/x-python",
   "name": "python",
   "nbconvert_exporter": "python",
   "pygments_lexer": "ipython3",
   "version": "3.12.11"
  }
 },
 "nbformat": 4,
 "nbformat_minor": 5
}
